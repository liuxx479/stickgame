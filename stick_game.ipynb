{
  "cells": [
    {
      "cell_type": "markdown",
      "metadata": {
        "id": "view-in-github",
        "colab_type": "text"
      },
      "source": [
        "<a href=\"https://colab.research.google.com/github/liuxx479/stickgame/blob/main/stick_game.ipynb\" target=\"_parent\"><img src=\"https://colab.research.google.com/assets/colab-badge.svg\" alt=\"Open In Colab\"/></a>"
      ]
    },
    {
      "cell_type": "code",
      "execution_count": 1,
      "id": "0eb16f39",
      "metadata": {
        "id": "0eb16f39"
      },
      "outputs": [],
      "source": [
        "from scipy import *\n",
        "import numpy as np\n",
        "import copy"
      ]
    },
    {
      "cell_type": "code",
      "execution_count": 2,
      "id": "47aece9a",
      "metadata": {
        "colab": {
          "base_uri": "https://localhost:8080/"
        },
        "id": "47aece9a",
        "outputId": "693549a8-407d-42aa-a457-a105a931af3c"
      },
      "outputs": [
        {
          "output_type": "stream",
          "name": "stdout",
          "text": [
            "[1 2 3]\n",
            "[1 2]\n"
          ]
        },
        {
          "output_type": "execute_result",
          "data": {
            "text/plain": [
              "array([1, 2, 3, 3, 4])"
            ]
          },
          "metadata": {},
          "execution_count": 2
        }
      ],
      "source": [
        "b=np.arange(1,4)\n",
        "print (b)\n",
        "print (np.delete(b,b==3))\n",
        "np.concatenate([b,np.array([3,4])])"
      ]
    },
    {
      "cell_type": "code",
      "execution_count": 3,
      "id": "61cc8d27",
      "metadata": {
        "colab": {
          "base_uri": "https://localhost:8080/"
        },
        "id": "61cc8d27",
        "outputId": "eb866d79-f1a0-44ed-9c9f-64af029f32c3"
      },
      "outputs": [
        {
          "output_type": "stream",
          "name": "stdout",
          "text": [
            "test init_board(4): [1 2 3 4]\n"
          ]
        }
      ],
      "source": [
        "def init_board (lv):\n",
        "    '''initialize the board'''\n",
        "    out=np.arange(lv)+1\n",
        "    return out\n",
        "\n",
        "print ('test init_board(4):', init_board(4))"
      ]
    },
    {
      "cell_type": "code",
      "execution_count": 48,
      "id": "4be63a72",
      "metadata": {
        "colab": {
          "base_uri": "https://localhost:8080/"
        },
        "id": "4be63a72",
        "outputId": "1e4e2601-321d-497f-b736-d5284a286a71"
      },
      "outputs": [
        {
          "output_type": "stream",
          "name": "stdout",
          "text": [
            "test split 5: [[], [4], [3], [2], [1], [1, 3], [1, 2], [1, 1], [2, 2]]\n"
          ]
        }
      ],
      "source": [
        "def split_num (num): ## e.g. 5\n",
        "    '''split each row to possible new outcomes'''\n",
        "    # out=[]\n",
        "    out=[[],] ## can always entirely cross the whole row, so start with a []\n",
        "    if num==1:\n",
        "        return out\n",
        "    for inum in np.arange(num):  ## initial idx\n",
        "        n0=inum\n",
        "        for jnum in np.arange(inum+1,num): ## final idx\n",
        "            n1=num-jnum\n",
        "            if n1<n0: ## [2,1] and [1,2] are the same, stop computing\n",
        "                break\n",
        "            if n0!=0:\n",
        "                out.append([n0,n1])\n",
        "            else:\n",
        "                out.append([n1])\n",
        "    return out\n",
        "\n",
        "print ('test split 5:', split_num(5))"
      ]
    },
    {
      "cell_type": "code",
      "execution_count": 105,
      "id": "566591d0",
      "metadata": {
        "colab": {
          "base_uri": "https://localhost:8080/"
        },
        "id": "566591d0",
        "outputId": "cf76f475-4b19-430e-a4e7-24e1e8a3f096"
      },
      "outputs": [
        {
          "output_type": "stream",
          "name": "stdout",
          "text": [
            "[1 2 3]\n",
            "[[1, 3], [1, 2], [2], [2, 3], [1, 2, 2], [3]]\n",
            "[1, 3] False\n",
            "[1, 2] False\n",
            "[2] False\n",
            "[2, 3] False\n",
            "[1, 2, 2] False\n",
            "[3] False\n",
            "[1] True\n"
          ]
        }
      ],
      "source": [
        "# test code\n",
        "# board=np.concatenate(split_num(5))\n",
        "# print (board)\n",
        "# print ((board==1)%2)\n",
        "\n",
        "def clean_board (board):\n",
        "    '''remve double 1, and sort numbers'''\n",
        "#     print ('sum(board==1)',sum(board==1))\n",
        "    board=np.array(board)\n",
        "\n",
        "    odd1s=sum(board==1)%2 ## True if odd number of 1s\n",
        "#     print (odd1s)\n",
        "    board=board[board!=1]\n",
        "    if odd1s:\n",
        "        board=np.append(board,[1])\n",
        "\n",
        "    ## second, sort the array, so only split the ones that are unique\n",
        "    board=np.sort(board)\n",
        "    return board\n",
        "\n",
        "\n",
        "def possible_out (board):\n",
        "    '''produce all possible outcomes (after 1 player) for a current board'''\n",
        "    board=clean_board(board)\n",
        "    num_unique, idx_unique=np.unique(board, return_index=1)\n",
        "    out=[]\n",
        "    for inum, iidx in zip(num_unique, idx_unique):\n",
        "#         print (inum, iidx)\n",
        "        splits=split_num (inum)\n",
        "        for isplit in splits:\n",
        "#             print ('board',board)\n",
        "            iboard=list(copy.deepcopy(board))\n",
        "            iboard=np.delete(iboard,iidx)\n",
        "            iboard=np.concatenate([iboard,isplit]).astype(int)\n",
        "#             print ('iboard',iboard)\n",
        "            iboard=clean_board(iboard)\n",
        "#             print ('inum,iboard',inum,iboard,type(iboard))\n",
        "            if len(iboard)==1 and iboard[0]==1:\n",
        "                return [[1]] ## if there's a board that can force others to lose, then stop here\n",
        "            out.append(iboard)\n",
        "    out = [list(x) for x in set(tuple(x) for x in out)] ## only count unique possibilities e.g. [1,2] and [1,2,1,1] would be the same after clean up\n",
        "    return out\n",
        "\n",
        "def status(board):\n",
        "    # '''return True when reaching the leaf, or board clears []'''\n",
        "    '''return True when there is [1] left, or lost'''\n",
        "    # if len(board)==0:\n",
        "    #     return True\n",
        "    # elif len(board)==1 and board[0]>1:\n",
        "    #     return True\n",
        "    # else:\n",
        "    #     return False\n",
        "    if len(board)==0:\n",
        "        return True\n",
        "    elif len(board)==1 and board[0]==1:\n",
        "        return True\n",
        "    else:\n",
        "        return False\n",
        "\n",
        "board0=init_board(3)\n",
        "print (board0)\n",
        "board=possible_out (board0)\n",
        "print (board)\n",
        "for iboard in board:\n",
        "    print (iboard, status(iboard))\n",
        "print ([1], status([1]))"
      ]
    },
    {
      "cell_type": "code",
      "execution_count": 107,
      "id": "403bd5c0",
      "metadata": {
        "colab": {
          "base_uri": "https://localhost:8080/"
        },
        "id": "403bd5c0",
        "outputId": "628d8def-f617-4656-ff9a-dca091a7534f"
      },
      "outputs": [
        {
          "output_type": "stream",
          "name": "stdout",
          "text": [
            "Stick Tree:\n",
            "[1 2 3]\n",
            "  [1, 3]\n",
            "    [1]\n",
            "  [1, 2]\n",
            "    [1]\n",
            "  [2]\n",
            "    [1]\n",
            "  [2, 3]\n",
            "    [1, 2]\n",
            "      [1]\n",
            "    [2]\n",
            "      [1]\n",
            "    [3]\n",
            "      [1]\n",
            "    [2, 2]\n",
            "      [1, 2]\n",
            "        [1]\n",
            "      [2]\n",
            "        [1]\n",
            "    [1, 3]\n",
            "      [1]\n",
            "  [1, 2, 2]\n",
            "    [1, 2]\n",
            "      [1]\n",
            "    [2]\n",
            "      [1]\n",
            "    [2, 2]\n",
            "      [1, 2]\n",
            "        [1]\n",
            "      [2]\n",
            "        [1]\n",
            "  [3]\n",
            "    [1]\n"
          ]
        }
      ],
      "source": [
        "def build_stick_tree(board):\n",
        "    \"\"\"Builds a stick game tree where each node splits into all possible new boads\"\"\"\n",
        "    root = TreeNode(board)\n",
        "\n",
        "    def recursive_add(node):\n",
        "        if status(node.value) and len(node.value)==0:\n",
        "            return\n",
        "        boards=possible_out (node.value)\n",
        "        for iboard in boards:\n",
        "            if len(iboard)==0:\n",
        "                break\n",
        "            ichild=TreeNode(iboard)\n",
        "            node.add_child(ichild)\n",
        "            recursive_add(ichild)\n",
        "\n",
        "    recursive_add(root)\n",
        "    return root\n",
        "\n",
        "def print_tree(node, depth=0):\n",
        "    \"\"\"Prints the tree structure.\"\"\"\n",
        "    print(\"  \" * depth + str(node.value))\n",
        "    for child in node.children:\n",
        "        print_tree(child, depth + 1)\n",
        "\n",
        "# Example usage\n",
        "lv=3  # Change this number to test different values\n",
        "board=init_board(lv)\n",
        "root = build_stick_tree(board)\n",
        "\n",
        "print(\"Stick Tree:\")\n",
        "print_tree(root)"
      ]
    },
    {
      "cell_type": "code",
      "source": [
        "possible_out([2])"
      ],
      "metadata": {
        "colab": {
          "base_uri": "https://localhost:8080/"
        },
        "id": "AedXqdHdDq1P",
        "outputId": "564ac1b0-cbf5-470a-d75a-b99414e2eb3e"
      },
      "id": "AedXqdHdDq1P",
      "execution_count": 65,
      "outputs": [
        {
          "output_type": "execute_result",
          "data": {
            "text/plain": [
              "[array([], dtype=int64), array([1])]"
            ]
          },
          "metadata": {},
          "execution_count": 65
        }
      ]
    },
    {
      "cell_type": "code",
      "execution_count": null,
      "id": "031c9c7a",
      "metadata": {
        "id": "031c9c7a"
      },
      "outputs": [],
      "source": [
        "## code block from chatgpt with prompt\n",
        "## \"write python code (can include numpy) to traverse a tree, including establish the tree\"\n",
        "\n",
        "# from collections import deque\n",
        "\n",
        "# class TreeNode:\n",
        "#     def __init__(self, value):\n",
        "#         self.value = value\n",
        "#         self.children = []\n",
        "\n",
        "#     def add_child(self, child_node):\n",
        "#         self.children.append(child_node)\n",
        "\n",
        "# # Depth-First Search (DFS) Traversal\n",
        "\n",
        "# def dfs_traversal(node, visited=None):\n",
        "#     if visited is None:\n",
        "#         visited = []\n",
        "\n",
        "#     visited.append(node.value)\n",
        "#     for child in node.children:\n",
        "#         dfs_traversal(child, visited)\n",
        "\n",
        "#     return visited\n",
        "\n",
        "# # Breadth-First Search (BFS) Traversal\n",
        "\n",
        "# def bfs_traversal(root):\n",
        "#     visited = []\n",
        "#     queue = deque([root])\n",
        "\n",
        "#     while queue:\n",
        "#         node = queue.popleft()\n",
        "#         visited.append(node.value)\n",
        "#         queue.extend(node.children)\n",
        "\n",
        "#     return visited\n",
        "\n",
        "# # Example: Constructing a tree\n",
        "# root = TreeNode(1)\n",
        "# child1 = TreeNode(2)\n",
        "# child2 = TreeNode(3)\n",
        "# child3 = TreeNode(4)\n",
        "# child4 = TreeNode(5)\n",
        "\n",
        "# root.add_child(child1)\n",
        "# root.add_child(child2)\n",
        "# child1.add_child(child3)\n",
        "# child1.add_child(child4)\n",
        "\n",
        "# # Traversing the tree\n",
        "# print(\"DFS Traversal:\", dfs_traversal(root))\n",
        "# print(\"BFS Traversal:\", bfs_traversal(root))\n",
        "\n",
        "# def find_max_depth(node, depth=0):\n",
        "#     \"\"\"Finds the maximum depth of the tree.\"\"\"\n",
        "#     if not node.children:\n",
        "#         return depth\n",
        "#     return max(find_max_depth(child, depth + 1) for child in node.children)\n",
        "\n",
        "# def get_last_level_nodes(root):\n",
        "#     \"\"\"Finds all nodes at the last level.\"\"\"\n",
        "#     max_depth = find_max_depth(root)\n",
        "#     last_level_nodes = []\n",
        "\n",
        "#     def collect_nodes_at_depth(node, depth):\n",
        "#         if depth == max_depth:\n",
        "#             last_level_nodes.append(node.value)\n",
        "#         for child in node.children:\n",
        "#             collect_nodes_at_depth(child, depth + 1)\n",
        "\n",
        "#     collect_nodes_at_depth(root, 0)\n",
        "#     return last_level_nodes\n",
        "\n",
        "# # Example usage:\n",
        "# print ('find max dept(node)', find_max_depth(root))\n",
        "# print(\"Nodes at last level:\", get_last_level_nodes(root))"
      ]
    },
    {
      "cell_type": "code",
      "execution_count": 7,
      "id": "77ac47e6",
      "metadata": {
        "id": "77ac47e6"
      },
      "outputs": [],
      "source": [
        "# ## chatgpt \"build a tree where a number is factorized into 2 numbers each time, until only prime numbers left\"\n",
        "\n",
        "class TreeNode:\n",
        "    def __init__(self, value):\n",
        "        self.value = value\n",
        "        self.children = []\n",
        "\n",
        "    def add_child(self, child_node):\n",
        "        self.children.append(child_node)\n",
        "\n",
        "# def is_prime(n):\n",
        "#     \"\"\"Check if a number is prime.\"\"\"\n",
        "#     if n < 2:\n",
        "#         return False\n",
        "#     for i in range(2, int(np.sqrt(n)) + 1):\n",
        "#         if n % i == 0:\n",
        "#             return False\n",
        "#     return True\n",
        "\n",
        "# def factorize(n):\n",
        "#     \"\"\"Finds the smallest factor (other than 1) of n.\"\"\"\n",
        "#     for i in range(2, int(np.sqrt(n)) + 1):\n",
        "#         if n % i == 0:\n",
        "#             return i, n // i\n",
        "#     return n, 1  # If prime, return itself\n",
        "\n",
        "# def build_factorization_tree(n):\n",
        "#     \"\"\"Builds a factorization tree where each node splits into two factors.\"\"\"\n",
        "#     root = TreeNode(n)\n",
        "\n",
        "#     def recursive_factorize(node):\n",
        "#         if is_prime(node.value):  # Stop when a prime is reached\n",
        "#             return\n",
        "#         factor1, factor2 = factorize(node.value)\n",
        "#         if factor1 == node.value:  # If it's prime, stop\n",
        "#             return\n",
        "#         child1 = TreeNode(factor1)\n",
        "#         child2 = TreeNode(factor2)\n",
        "#         node.add_child(child1)\n",
        "#         node.add_child(child2)\n",
        "#         recursive_factorize(child1)\n",
        "#         recursive_factorize(child2)\n",
        "\n",
        "#     recursive_factorize(root)\n",
        "#     return root\n",
        "\n",
        "# def print_tree(node, depth=0):\n",
        "#     \"\"\"Prints the tree structure.\"\"\"\n",
        "#     print(\"  \" * depth + str(node.value))\n",
        "#     for child in node.children:\n",
        "#         print_tree(child, depth + 1)\n",
        "\n",
        "# # Example usage\n",
        "# number = 120  # Change this number to test different values\n",
        "# root = build_factorization_tree(number)\n",
        "\n",
        "# print(\"Factorization Tree:\")\n",
        "# print_tree(root)\n"
      ]
    },
    {
      "cell_type": "code",
      "execution_count": null,
      "id": "4554f4b7",
      "metadata": {
        "id": "4554f4b7",
        "outputId": "e766cad9-f7d2-49ac-81d0-99c52a2b3246"
      },
      "outputs": [
        {
          "data": {
            "text/plain": [
              "[]"
            ]
          },
          "execution_count": 219,
          "metadata": {},
          "output_type": "execute_result"
        }
      ],
      "source": [
        "possible_out([1])"
      ]
    },
    {
      "cell_type": "code",
      "execution_count": null,
      "id": "025de67e",
      "metadata": {
        "id": "025de67e"
      },
      "outputs": [],
      "source": []
    }
  ],
  "metadata": {
    "kernelspec": {
      "display_name": "Python 3 (ipykernel)",
      "language": "python",
      "name": "python3"
    },
    "language_info": {
      "codemirror_mode": {
        "name": "ipython",
        "version": 3
      },
      "file_extension": ".py",
      "mimetype": "text/x-python",
      "name": "python",
      "nbconvert_exporter": "python",
      "pygments_lexer": "ipython3",
      "version": "3.9.13"
    },
    "colab": {
      "provenance": [],
      "include_colab_link": true
    }
  },
  "nbformat": 4,
  "nbformat_minor": 5
}