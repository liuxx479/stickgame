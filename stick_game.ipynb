{
  "cells": [
    {
      "cell_type": "markdown",
      "metadata": {
        "id": "view-in-github",
        "colab_type": "text"
      },
      "source": [
        "<a href=\"https://colab.research.google.com/github/liuxx479/stickgame/blob/main/stick_game.ipynb\" target=\"_parent\"><img src=\"https://colab.research.google.com/assets/colab-badge.svg\" alt=\"Open In Colab\"/></a>"
      ]
    },
    {
      "cell_type": "code",
      "execution_count": 1,
      "id": "0eb16f39",
      "metadata": {
        "id": "0eb16f39"
      },
      "outputs": [],
      "source": [
        "from scipy import *\n",
        "import numpy as np\n",
        "import copy\n",
        "import hashlib\n",
        "from collections import defaultdict"
      ]
    },
    {
      "cell_type": "code",
      "source": [
        "def hash_list(lst):\n",
        "    lst_bytes = str(list(lst)).encode()  # Convert to string and encode\n",
        "    return hashlib.sha256(lst_bytes).hexdigest()  # Generate SHA-256 hash"
      ],
      "metadata": {
        "id": "BKwjus_6RhHS"
      },
      "id": "BKwjus_6RhHS",
      "execution_count": 2,
      "outputs": []
    },
    {
      "cell_type": "code",
      "execution_count": 3,
      "id": "47aece9a",
      "metadata": {
        "id": "47aece9a"
      },
      "outputs": [],
      "source": [
        "class TreeNode:\n",
        "    def __init__(self, value):\n",
        "        self.value = value\n",
        "        self.children = []\n",
        "\n",
        "    def add_child(self, child_node):\n",
        "        self.children.append(child_node)"
      ]
    },
    {
      "cell_type": "code",
      "execution_count": 4,
      "id": "61cc8d27",
      "metadata": {
        "colab": {
          "base_uri": "https://localhost:8080/"
        },
        "id": "61cc8d27",
        "outputId": "c620f057-adef-4616-e9b2-d4f98adb8511"
      },
      "outputs": [
        {
          "output_type": "stream",
          "name": "stdout",
          "text": [
            "test init_board(4): [1 2 3 4]\n"
          ]
        }
      ],
      "source": [
        "def init_board (lv):\n",
        "    '''initialize the board'''\n",
        "    out=np.arange(lv)+1\n",
        "    return out\n",
        "\n",
        "print ('test init_board(4):', init_board(4))"
      ]
    },
    {
      "cell_type": "code",
      "execution_count": 5,
      "id": "4be63a72",
      "metadata": {
        "colab": {
          "base_uri": "https://localhost:8080/"
        },
        "id": "4be63a72",
        "outputId": "a55db7dd-53e4-46e6-c004-6d8123cd74ba"
      },
      "outputs": [
        {
          "output_type": "stream",
          "name": "stdout",
          "text": [
            "test split 5: [[], [4], [3], [2], [1], [1, 3], [1, 2], [1, 1], [2, 2]]\n"
          ]
        }
      ],
      "source": [
        "def split_num (num): ## e.g. 5\n",
        "    '''split each row to possible new outcomes'''\n",
        "    # out=[]\n",
        "    out=[[],] ## can always entirely cross the whole row, so start with a []\n",
        "    if num==1:\n",
        "        return out\n",
        "    for inum in np.arange(num):  ## initial idx\n",
        "        n0=inum\n",
        "        for jnum in np.arange(inum+1,num): ## final idx\n",
        "            n1=num-jnum\n",
        "            if n1<n0: ## [2,1] and [1,2] are the same, stop computing\n",
        "                break\n",
        "            if n0!=0:\n",
        "                out.append([n0,n1])\n",
        "            else:\n",
        "                out.append([n1])\n",
        "    return out\n",
        "\n",
        "print ('test split 5:', split_num(5))"
      ]
    },
    {
      "cell_type": "code",
      "source": [
        "def init_win_board():\n",
        "    winning_board_cache = {}\n",
        "    for iboard in [[1,]]:#,[2,2]]:#[1,2,3]]:\n",
        "        winning_board_cache[hash_list(iboard)] = list(iboard)\n",
        "    return winning_board_cache\n",
        "\n",
        "winning_board_cache0=init_win_board()\n",
        "print (winning_board_cache0.values())"
      ],
      "metadata": {
        "id": "-MdjoYIyWnYb",
        "colab": {
          "base_uri": "https://localhost:8080/"
        },
        "outputId": "7188f998-5880-42c1-f2bb-a7fae8886079"
      },
      "id": "-MdjoYIyWnYb",
      "execution_count": 9,
      "outputs": [
        {
          "output_type": "stream",
          "name": "stdout",
          "text": [
            "dict_values([[1]])\n"
          ]
        }
      ]
    },
    {
      "cell_type": "code",
      "execution_count": 11,
      "id": "566591d0",
      "metadata": {
        "colab": {
          "base_uri": "https://localhost:8080/"
        },
        "id": "566591d0",
        "outputId": "4171a034-ca5e-4a3f-b7fc-f6dd8d263ad6"
      },
      "outputs": [
        {
          "output_type": "stream",
          "name": "stdout",
          "text": [
            "Test initial board [1 2 3]\n",
            "Test possible child boards [[1, 3], [1, 2], [2], [2, 3], [1, 2, 2], [3]]\n",
            "Test status of the board (True=the one just finished win, or the one about to move lose):\n",
            "[1] True\n",
            "[2, 2] False\n",
            "[3] False\n"
          ]
        }
      ],
      "source": [
        "def clean_board (board):\n",
        "    '''remve double 1, and sort numbers'''\n",
        "#     print ('sum(board==1)',sum(board==1))\n",
        "    board=np.array(board)\n",
        "\n",
        "    odd1s=sum(board==1)%2 ## True if odd number of 1s\n",
        "#     print (odd1s)\n",
        "    board=board[board!=1]\n",
        "    if odd1s:\n",
        "        board=np.append(board,[1])\n",
        "    ## second, sort the array, so only split the ones that are unique\n",
        "    board=np.sort(board)\n",
        "    return list(board)\n",
        "\n",
        "list_unique = lambda out: [list(x) for x in set(tuple(x) for x in out)]\n",
        "\n",
        "def possible_out (board, winning_board_cache=winning_board_cache0):\n",
        "    '''produce all possible outcomes (after 1 player) for a current board'''\n",
        "    board=clean_board(board)\n",
        "    num_unique, idx_unique=np.unique(board, return_index=1)\n",
        "    out=[]\n",
        "    for inum, iidx in zip(num_unique, idx_unique):\n",
        "        splits=split_num (inum)\n",
        "        for isplit in splits:\n",
        "            iboard=list(copy.deepcopy(board))\n",
        "            iboard=np.delete(iboard,iidx)\n",
        "            iboard=np.concatenate([iboard,isplit]).astype(int)\n",
        "            iboard=clean_board(iboard)\n",
        "\n",
        "            if hash_list(iboard) in winning_board_cache0:\n",
        "                return list_unique([iboard]) ## if there's a board that can force others to lose, then stop here\n",
        "\n",
        "            out.append(iboard)\n",
        "    out =  list_unique(out) ## only count unique possibilities e.g. [1,2] and [1,2,1,1] would be the same after clean up\n",
        "    return out\n",
        "\n",
        "def status(board, winning_board_cache=winning_board_cache0):\n",
        "    # '''return True when reaching the leaf, or board clears []'''\n",
        "    '''return True when winning, i.e. there is [1] or [2,2] left; False otherwise (unclear)'''\n",
        "    if len(board)==0 or hash_list(board) in winning_board_cache:\n",
        "        return True\n",
        "    else:\n",
        "        return False\n",
        "\n",
        "## test code\n",
        "board0=init_board(3)\n",
        "print ('Test initial board',board0)\n",
        "boards=possible_out (board0)\n",
        "print ('Test possible child boards',boards)\n",
        "# for iboard in boards:\n",
        "#     print (iboard, status(iboard))\n",
        "print ('Test status of the board (True=the one just finished win, or the one about to move lose):')\n",
        "for itest in [[1,],[2,2],[3]]:\n",
        "    print (itest, status(itest))"
      ]
    },
    {
      "cell_type": "code",
      "execution_count": 46,
      "id": "403bd5c0",
      "metadata": {
        "colab": {
          "base_uri": "https://localhost:8080/"
        },
        "id": "403bd5c0",
        "outputId": "dcf2b228-f865-4ac5-b64e-722ca95de0f2"
      },
      "outputs": [
        {
          "output_type": "stream",
          "name": "stdout",
          "text": [
            "Stick Tree (Cache):\n",
            "[1 2 3]\n",
            "  [1, 3]\n",
            "    [1]\n",
            "  [1, 2]\n",
            "    [1]\n",
            "  [2]\n",
            "    [1]\n",
            "  [2, 3]\n",
            "    [1, 2]\n",
            "      [1]\n",
            "    [2]\n",
            "      [1]\n",
            "    [3]\n",
            "      [1]\n",
            "    [2, 2]\n",
            "      [1, 2]\n",
            "        [1]\n",
            "      [2]\n",
            "        [1]\n",
            "    [1, 3]\n",
            "      [1]\n",
            "  [1, 2, 2]\n",
            "    [1, 2]\n",
            "      [1]\n",
            "    [2]\n",
            "      [1]\n",
            "    [2, 2]\n",
            "      [1, 2]\n",
            "        [1]\n",
            "      [2]\n",
            "        [1]\n",
            "  [3]\n",
            "    [1]\n"
          ]
        }
      ],
      "source": [
        "# def build_stick_tree(board):\n",
        "#     \"\"\"Builds a stick game tree where each node splits into all possible new boads\"\"\"\n",
        "#     root = TreeNode(board)\n",
        "\n",
        "#     def recursive_add(node):\n",
        "#         if status(node.value):\n",
        "#             return\n",
        "#         boards=possible_out (node.value)\n",
        "#         for iboard in boards:\n",
        "#             if len(iboard)==0:\n",
        "#                 break\n",
        "#             ichild=TreeNode(iboard)\n",
        "#             node.add_child(ichild)\n",
        "#             recursive_add(ichild)\n",
        "\n",
        "#     recursive_add(root)\n",
        "#     return root\n",
        "\n",
        "\n",
        "def build_stick_tree_cache (board, node_cache=None, winning_board_cache=None):\n",
        "    \"\"\"Builds a stick game tree where each node splits into all possible new boads\"\"\"\n",
        "\n",
        "    if node_cache is None:\n",
        "        node_cache = {}\n",
        "    if winning_board_cache is None:\n",
        "        winning_board_cache = {}\n",
        "\n",
        "    hash_board=hash_list(board)\n",
        "\n",
        "    if hash_board in node_cache:\n",
        "        return node_cache[hash_board]\n",
        "\n",
        "    root = TreeNode(board)\n",
        "    node_cache[hash_board] = root\n",
        "\n",
        "    def recursive_add(node):\n",
        "        if status(node.value,winning_board_cache=winning_board_cache):# and len(node.value)==0:\n",
        "            return\n",
        "        boards=possible_out (node.value,winning_board_cache=winning_board_cache)\n",
        "        for iboard in boards:\n",
        "            if len(iboard)==0:\n",
        "                break\n",
        "            ihash_board=hash_list(iboard)\n",
        "            if ihash_board in node_cache:\n",
        "                ichild=node_cache[ihash_board]\n",
        "            else:\n",
        "                ichild=TreeNode(iboard)\n",
        "                recursive_add(ichild)\n",
        "                node_cache[ihash_board]=ichild\n",
        "\n",
        "            node.add_child(ichild)\n",
        "\n",
        "    recursive_add(root)\n",
        "    return root\n",
        "\n",
        "def print_tree(node, depth=0):\n",
        "    \"\"\"Prints the tree structure.\"\"\"\n",
        "    print(\"  \" * depth + str(node.value))\n",
        "    for child in node.children:\n",
        "        print_tree(child, depth + 1)\n",
        "\n",
        "\n",
        "# Example usage\n",
        "lv=3  # Change this number to test different values\n",
        "board=init_board(lv)\n",
        "\n",
        "## cache tree\n",
        "node_cache = {}\n",
        "root_cache = build_stick_tree_cache (board, node_cache)\n",
        "print(\"Stick Tree (Cache):\")\n",
        "print_tree(root_cache)\n",
        "\n",
        "## no cache tree\n",
        "# root = build_stick_tree(board)\n",
        "# print(\"Stick Tree:\")\n",
        "# print_tree(root)"
      ]
    },
    {
      "cell_type": "code",
      "source": [
        "# %timeit build_stick_tree(board)\n",
        "# %timeit build_stick_tree_cache (board)"
      ],
      "metadata": {
        "id": "CzYgACuTQ6kD"
      },
      "id": "CzYgACuTQ6kD",
      "execution_count": 102,
      "outputs": []
    },
    {
      "cell_type": "code",
      "source": [
        "### now walk through the tree to find winning path\n",
        "def find_leaf_levels_and_paths(node, level=0, path=\"\", leaves=None):\n",
        "    \"\"\"Finds all leaf nodes, their levels, and paths in the tree.\"\"\"\n",
        "    if leaves is None:\n",
        "        leaves = []\n",
        "\n",
        "    if not node.children:  # If it's a leaf node\n",
        "        leaves.append((node.value, level, path))\n",
        "\n",
        "    for child in node.children:\n",
        "        find_leaf_levels_and_paths(child, level + 1, path + f\"->{child.value}\", leaves)\n",
        "\n",
        "    return leaves\n",
        "\n",
        "# Example usage:\n",
        "leaves = find_leaf_levels_and_paths(root_cache)\n",
        "print(\"Possible paths for stick game level\", board)\n",
        "for value, lvl, path in leaves:\n",
        "    print(f\"Leaf depth: {lvl} ({['LOST', 'WIN '][lvl%2]}), Path: {path}\")"
      ],
      "metadata": {
        "colab": {
          "base_uri": "https://localhost:8080/"
        },
        "id": "QV0_Ao87WnTv",
        "outputId": "67c2f07f-3ad0-4232-e796-3f028af88a1b"
      },
      "id": "QV0_Ao87WnTv",
      "execution_count": 47,
      "outputs": [
        {
          "output_type": "stream",
          "name": "stdout",
          "text": [
            "Possible paths for stick game level [1 2 3]\n",
            "Leaf depth: 2 (LOST), Path: ->[1, 3]->[1]\n",
            "Leaf depth: 2 (LOST), Path: ->[1, 2]->[1]\n",
            "Leaf depth: 2 (LOST), Path: ->[2]->[1]\n",
            "Leaf depth: 3 (WIN ), Path: ->[2, 3]->[1, 2]->[1]\n",
            "Leaf depth: 3 (WIN ), Path: ->[2, 3]->[2]->[1]\n",
            "Leaf depth: 3 (WIN ), Path: ->[2, 3]->[3]->[1]\n",
            "Leaf depth: 4 (LOST), Path: ->[2, 3]->[2, 2]->[1, 2]->[1]\n",
            "Leaf depth: 4 (LOST), Path: ->[2, 3]->[2, 2]->[2]->[1]\n",
            "Leaf depth: 3 (WIN ), Path: ->[2, 3]->[1, 3]->[1]\n",
            "Leaf depth: 3 (WIN ), Path: ->[1, 2, 2]->[1, 2]->[1]\n",
            "Leaf depth: 3 (WIN ), Path: ->[1, 2, 2]->[2]->[1]\n",
            "Leaf depth: 4 (LOST), Path: ->[1, 2, 2]->[2, 2]->[1, 2]->[1]\n",
            "Leaf depth: 4 (LOST), Path: ->[1, 2, 2]->[2, 2]->[2]->[1]\n",
            "Leaf depth: 2 (LOST), Path: ->[3]->[1]\n"
          ]
        }
      ]
    },
    {
      "cell_type": "code",
      "source": [
        "### after building a tree, search all nodes, if each the node has only even number in leaf depth, then it's winning board, store in cache\n",
        "\n",
        "def find_even_leaf_nodes(root, cache=None):\n",
        "    \"\"\"Searches the tree and stores nodes whose leaf depths are all even.\"\"\"\n",
        "    if cache is None:\n",
        "        cache = {}\n",
        "\n",
        "    def check_and_store(node, parent_level=0):\n",
        "        \"\"\"Recursively checks if (leaf depth - child depth) is all even.\"\"\"\n",
        "        if not node.children:  # If it's a leaf node\n",
        "            return [parent_level + 1]  # Leaf depth relative to tree\n",
        "\n",
        "        leaf_levels = []\n",
        "        for child in node.children:\n",
        "            child_level = parent_level + 1  # Child level relative to tree\n",
        "            child_leaf_levels = check_and_store(child, child_level)\n",
        "\n",
        "            # Adjust leaf levels relative to the child\n",
        "            adjusted_leaf_levels = [leaf_level - child_level for leaf_level in child_leaf_levels]\n",
        "            leaf_levels.extend(adjusted_leaf_levels)\n",
        "\n",
        "        # If all (leaf level - child level) values are even, store and stop deeper recursion\n",
        "        if all(level % 2 == 0 for level in leaf_levels):\n",
        "            # cache.add(node.value)\n",
        "            cache[hash_list(node.value)]=list(node.value)\n",
        "            return []  # Stop deeper exploration\n",
        "\n",
        "        return leaf_levels  # Continue deeper\n",
        "\n",
        "    check_and_store(root)\n",
        "    return cache\n",
        "\n",
        "# Example usage:\n",
        "winning_board_cache=init_win_board()\n",
        "print (\"Winning board values (before find_even_leaf_nodes):\\n\", winning_board_cache.values())\n",
        "\n",
        "lv=3\n",
        "board=init_board(lv)\n",
        "\n",
        "## cache tree\n",
        "root_cache = build_stick_tree_cache (board, winning_board_cache=winning_board_cache)\n",
        "\n",
        "print(\"\\nStick Tree (Cache):\")\n",
        "print_tree(root_cache)\n",
        "\n",
        "even_leaf_cache = find_even_leaf_nodes(root_cache, cache=winning_board_cache)\n",
        "print (\"Winning board values (after find_even_leaf_nodes):\\n\", winning_board_cache.values())\n",
        "print(\"even_leaf_cache:\", even_leaf_cache.values())"
      ],
      "metadata": {
        "id": "C67iI-89f_I3",
        "colab": {
          "base_uri": "https://localhost:8080/"
        },
        "outputId": "0ad95e29-d3b5-4a01-9b93-e4cd52e40507"
      },
      "id": "C67iI-89f_I3",
      "execution_count": 48,
      "outputs": [
        {
          "output_type": "stream",
          "name": "stdout",
          "text": [
            "Winning board values (before find_even_leaf_nodes):\n",
            " dict_values([[1]])\n",
            "\n",
            "Stick Tree (Cache):\n",
            "[1 2 3]\n",
            "  [1, 3]\n",
            "    [1]\n",
            "  [1, 2]\n",
            "    [1]\n",
            "  [2]\n",
            "    [1]\n",
            "  [2, 3]\n",
            "    [1, 2]\n",
            "      [1]\n",
            "    [2]\n",
            "      [1]\n",
            "    [3]\n",
            "      [1]\n",
            "    [2, 2]\n",
            "      [1, 2]\n",
            "        [1]\n",
            "      [2]\n",
            "        [1]\n",
            "    [1, 3]\n",
            "      [1]\n",
            "  [1, 2, 2]\n",
            "    [1, 2]\n",
            "      [1]\n",
            "    [2]\n",
            "      [1]\n",
            "    [2, 2]\n",
            "      [1, 2]\n",
            "        [1]\n",
            "      [2]\n",
            "        [1]\n",
            "  [3]\n",
            "    [1]\n",
            "Winning board values (after find_even_leaf_nodes):\n",
            " dict_values([[1], [2, 2], [1, 2, 3]])\n",
            "even_leaf_cache: dict_values([[1], [2, 2], [1, 2, 3]])\n"
          ]
        }
      ]
    },
    {
      "cell_type": "code",
      "source": [
        "### map out lv N tree, then update even_leaf_cache, then back to lv N-1 see if it's in winning boards, if not, then losing\n",
        "\n",
        "winning_board_cache = init_win_board()\n",
        "node_cache = {}\n",
        "\n",
        "def play_game (lv, node_cache={}, winning_board_cache=winning_board_cache):\n",
        "    board=init_board(lv)\n",
        "    root_cache = build_stick_tree_cache (board, node_cache, winning_board_cache)\n",
        "    even_leaf_cache = find_even_leaf_nodes(root_cache, cache=winning_board_cache)\n",
        "    return root_cache\n",
        "\n",
        "\n",
        "for lv in [1,2,3,4,5]:\n",
        "    iroot=play_game(lv, node_cache={}, winning_board_cache=winning_board_cache)\n",
        "    # leaves = find_leaf_levels_and_paths(iroot)\n",
        "    # print(\"Possible paths for stick game level\", lv)\n",
        "    # for value, lvl, path in leaves:\n",
        "    #     print(f\"Leaf depth: {lvl} ({['LOST', 'WIN '][lvl%2]}), Path: {path}\")\n",
        "\n",
        "    print(\"Winning boards (lv %s)\"%(lv), winning_board_cache.values())\n",
        "    # print (\"\\n\")\n",
        "\n",
        "# print ('using full cache')\n",
        "# for lv in [2,3, 4]:\n",
        "#     iroot=play_game(lv, winning_board_cache=winning_board_cache)\n",
        "#     leaves = find_leaf_levels_and_paths(iroot)\n",
        "#     print(\"Possible paths for stick game level\", lv)\n",
        "#     for value, lvl, path in leaves:\n",
        "#         print(f\"Leaf depth: {lvl} ({['LOST', 'WIN '][lvl%2]}), Path: {path}\")\n",
        "#     print(\"Winning boards (lv %s)\"%(lv), winning_board_cache.values())\n",
        "#     print (\"\\n\")\n",
        "#     even_leaf_cache = find_even_leaf_nodes(iroot, cache=winning_board_cache)"
      ],
      "metadata": {
        "id": "f2IGSe0Hf_LG",
        "colab": {
          "base_uri": "https://localhost:8080/"
        },
        "outputId": "41432ad4-cefd-4caa-bcb4-b08564e84b54"
      },
      "id": "f2IGSe0Hf_LG",
      "execution_count": 49,
      "outputs": [
        {
          "output_type": "stream",
          "name": "stdout",
          "text": [
            "Winning boards (lv 1) dict_values([[1]])\n",
            "Winning boards (lv 2) dict_values([[1]])\n",
            "Winning boards (lv 3) dict_values([[1], [2, 2], [1, 2, 3]])\n",
            "Winning boards (lv 4) dict_values([[1], [2, 2], [1, 2, 3], [3, 3]])\n",
            "Winning boards (lv 5) dict_values([[1], [2, 2], [1, 2, 3], [3, 3]])\n"
          ]
        }
      ]
    },
    {
      "cell_type": "code",
      "source": [
        "def check_winning (board, winning_board_cache=winning_board_cache):\n",
        "    '''if the initial board is in winning board, then 2nd player win, first player lost'''\n",
        "    if hash_list(board) not in winning_board_cache:\n",
        "        return True\n",
        "    else:\n",
        "        return False\n",
        "\n",
        "for lv in [1,2,3,4,5]:\n",
        "    first_win=check_winning(init_board(lv))\n",
        "    print ('Lv %i board, first player %s'%(lv, ['LOSES','WINS'][first_win]))\n",
        "### level 6 already hard to compute... maybe need to put losing board as well\n",
        "### or walk the tree better/more efficiently"
      ],
      "metadata": {
        "id": "lLfaB0sENiMP",
        "outputId": "745583c5-882d-4a72-f32e-57ef0ea101c4",
        "colab": {
          "base_uri": "https://localhost:8080/"
        }
      },
      "id": "lLfaB0sENiMP",
      "execution_count": 50,
      "outputs": [
        {
          "output_type": "stream",
          "name": "stdout",
          "text": [
            "Lv 1 board, first player LOSES\n",
            "Lv 2 board, first player WINS\n",
            "Lv 3 board, first player LOSES\n",
            "Lv 4 board, first player WINS\n",
            "Lv 5 board, first player WINS\n"
          ]
        }
      ]
    },
    {
      "cell_type": "markdown",
      "source": [
        "Need to optimize more.. and I think lv 5 should lose, but unsure how to walk it better, spent too much time on this already. Stop here for now."
      ],
      "metadata": {
        "id": "Sc2fSUj9DHJW"
      },
      "id": "Sc2fSUj9DHJW"
    },
    {
      "cell_type": "code",
      "execution_count": null,
      "id": "025de67e",
      "metadata": {
        "id": "025de67e"
      },
      "outputs": [],
      "source": []
    }
  ],
  "metadata": {
    "kernelspec": {
      "display_name": "Python 3 (ipykernel)",
      "language": "python",
      "name": "python3"
    },
    "language_info": {
      "codemirror_mode": {
        "name": "ipython",
        "version": 3
      },
      "file_extension": ".py",
      "mimetype": "text/x-python",
      "name": "python",
      "nbconvert_exporter": "python",
      "pygments_lexer": "ipython3",
      "version": "3.9.13"
    },
    "colab": {
      "provenance": [],
      "include_colab_link": true
    }
  },
  "nbformat": 4,
  "nbformat_minor": 5
}