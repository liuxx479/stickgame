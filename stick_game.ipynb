{
  "cells": [
    {
      "cell_type": "markdown",
      "metadata": {
        "id": "view-in-github",
        "colab_type": "text"
      },
      "source": [
        "<a href=\"https://colab.research.google.com/github/liuxx479/stickgame/blob/main/stick_game.ipynb\" target=\"_parent\"><img src=\"https://colab.research.google.com/assets/colab-badge.svg\" alt=\"Open In Colab\"/></a>"
      ]
    },
    {
      "cell_type": "code",
      "execution_count": 1,
      "id": "0eb16f39",
      "metadata": {
        "id": "0eb16f39"
      },
      "outputs": [],
      "source": [
        "from scipy import *\n",
        "import numpy as np\n",
        "import copy"
      ]
    },
    {
      "cell_type": "code",
      "execution_count": 2,
      "id": "47aece9a",
      "metadata": {
        "colab": {
          "base_uri": "https://localhost:8080/"
        },
        "id": "47aece9a",
        "outputId": "693549a8-407d-42aa-a457-a105a931af3c"
      },
      "outputs": [
        {
          "output_type": "stream",
          "name": "stdout",
          "text": [
            "[1 2 3]\n",
            "[1 2]\n"
          ]
        },
        {
          "output_type": "execute_result",
          "data": {
            "text/plain": [
              "array([1, 2, 3, 3, 4])"
            ]
          },
          "metadata": {},
          "execution_count": 2
        }
      ],
      "source": [
        "b=np.arange(1,4)\n",
        "print (b)\n",
        "print (np.delete(b,b==3))\n",
        "np.concatenate([b,np.array([3,4])])"
      ]
    },
    {
      "cell_type": "code",
      "execution_count": 3,
      "id": "61cc8d27",
      "metadata": {
        "colab": {
          "base_uri": "https://localhost:8080/"
        },
        "id": "61cc8d27",
        "outputId": "eb866d79-f1a0-44ed-9c9f-64af029f32c3"
      },
      "outputs": [
        {
          "output_type": "stream",
          "name": "stdout",
          "text": [
            "test init_board(4): [1 2 3 4]\n"
          ]
        }
      ],
      "source": [
        "def init_board (lv):\n",
        "    '''initialize the board'''\n",
        "    out=np.arange(lv)+1\n",
        "    return out\n",
        "\n",
        "print ('test init_board(4):', init_board(4))"
      ]
    },
    {
      "cell_type": "code",
      "execution_count": 48,
      "id": "4be63a72",
      "metadata": {
        "colab": {
          "base_uri": "https://localhost:8080/"
        },
        "id": "4be63a72",
        "outputId": "1e4e2601-321d-497f-b736-d5284a286a71"
      },
      "outputs": [
        {
          "output_type": "stream",
          "name": "stdout",
          "text": [
            "test split 5: [[], [4], [3], [2], [1], [1, 3], [1, 2], [1, 1], [2, 2]]\n"
          ]
        }
      ],
      "source": [
        "def split_num (num): ## e.g. 5\n",
        "    '''split each row to possible new outcomes'''\n",
        "    # out=[]\n",
        "    out=[[],] ## can always entirely cross the whole row, so start with a []\n",
        "    if num==1:\n",
        "        return out\n",
        "    for inum in np.arange(num):  ## initial idx\n",
        "        n0=inum\n",
        "        for jnum in np.arange(inum+1,num): ## final idx\n",
        "            n1=num-jnum\n",
        "            if n1<n0: ## [2,1] and [1,2] are the same, stop computing\n",
        "                break\n",
        "            if n0!=0:\n",
        "                out.append([n0,n1])\n",
        "            else:\n",
        "                out.append([n1])\n",
        "    return out\n",
        "\n",
        "print ('test split 5:', split_num(5))"
      ]
    },
    {
      "cell_type": "code",
      "execution_count": 147,
      "id": "566591d0",
      "metadata": {
        "colab": {
          "base_uri": "https://localhost:8080/"
        },
        "id": "566591d0",
        "outputId": "d83838e3-05d6-46d5-a6a3-acd9a5aeacac"
      },
      "outputs": [
        {
          "output_type": "stream",
          "name": "stdout",
          "text": [
            "[1 2 3]\n",
            "[[1, 3], [1, 2], [2], [2, 3], [1, 2, 2], [3]]\n",
            "[1, 3] False\n",
            "[1, 2] False\n",
            "[2] False\n",
            "[2, 3] False\n",
            "[1, 2, 2] False\n",
            "[3] False\n",
            "[1] True\n"
          ]
        }
      ],
      "source": [
        "# test code\n",
        "# board=np.concatenate(split_num(5))\n",
        "# print (board)\n",
        "# print ((board==1)%2)\n",
        "\n",
        "def clean_board (board):\n",
        "    '''remve double 1, and sort numbers'''\n",
        "#     print ('sum(board==1)',sum(board==1))\n",
        "    board=np.array(board)\n",
        "\n",
        "    odd1s=sum(board==1)%2 ## True if odd number of 1s\n",
        "#     print (odd1s)\n",
        "    board=board[board!=1]\n",
        "    if odd1s:\n",
        "        board=np.append(board,[1])\n",
        "\n",
        "    ## second, sort the array, so only split the ones that are unique\n",
        "    board=np.sort(board)\n",
        "    return board\n",
        "\n",
        "\n",
        "def possible_out (board):\n",
        "    '''produce all possible outcomes (after 1 player) for a current board'''\n",
        "    board=clean_board(board)\n",
        "    num_unique, idx_unique=np.unique(board, return_index=1)\n",
        "    out=[]\n",
        "    for inum, iidx in zip(num_unique, idx_unique):\n",
        "#         print (inum, iidx)\n",
        "        splits=split_num (inum)\n",
        "        for isplit in splits:\n",
        "#             print ('board',board)\n",
        "            iboard=list(copy.deepcopy(board))\n",
        "            iboard=np.delete(iboard,iidx)\n",
        "            iboard=np.concatenate([iboard,isplit]).astype(int)\n",
        "#             print ('iboard',iboard)\n",
        "            iboard=clean_board(iboard)\n",
        "#             print ('inum,iboard',inum,iboard,type(iboard))\n",
        "            if len(iboard)==1 and iboard[0]==1:\n",
        "                return [[1]] ## if there's a board that can force others to lose, then stop here\n",
        "            out.append(iboard)\n",
        "    out = [list(x) for x in set(tuple(x) for x in out)] ## only count unique possibilities e.g. [1,2] and [1,2,1,1] would be the same after clean up\n",
        "    return out\n",
        "\n",
        "def status(board):\n",
        "    # '''return True when reaching the leaf, or board clears []'''\n",
        "    '''return True when there is [1] left, or lost'''\n",
        "    # if len(board)==0:\n",
        "    #     return True\n",
        "    # elif len(board)==1 and board[0]>1:\n",
        "    #     return True\n",
        "    # else:\n",
        "    #     return False\n",
        "    if len(board)==0:\n",
        "        return True\n",
        "    elif len(board)==1 and board[0]==1:\n",
        "        return True\n",
        "    else:\n",
        "        return False\n",
        "\n",
        "board0=init_board(3)\n",
        "print (board0)\n",
        "boards=possible_out (board0)\n",
        "print (boards)\n",
        "for iboard in boards:\n",
        "    print (iboard, status(iboard))\n",
        "print ([1], status([1]))"
      ]
    },
    {
      "cell_type": "code",
      "source": [
        "import hashlib\n",
        "\n",
        "def hash_list(lst):\n",
        "    lst_bytes = str(lst).encode()  # Convert to string and encode\n",
        "    return hashlib.sha256(lst_bytes).hexdigest()  # Generate SHA-256 hash"
      ],
      "metadata": {
        "id": "BKwjus_6RhHS"
      },
      "id": "BKwjus_6RhHS",
      "execution_count": 116,
      "outputs": []
    },
    {
      "cell_type": "code",
      "execution_count": 138,
      "id": "403bd5c0",
      "metadata": {
        "colab": {
          "base_uri": "https://localhost:8080/"
        },
        "id": "403bd5c0",
        "outputId": "b72fbcfd-986b-4843-ea30-73f9875a0dfe"
      },
      "outputs": [
        {
          "output_type": "stream",
          "name": "stdout",
          "text": [
            "Stick Tree:\n",
            "[1 2 3]\n",
            "  [1, 3]\n",
            "    [1]\n",
            "  [1, 2]\n",
            "    [1]\n",
            "  [2]\n",
            "    [1]\n",
            "  [2, 3]\n",
            "    [1, 2]\n",
            "      [1]\n",
            "    [2]\n",
            "      [1]\n",
            "    [3]\n",
            "      [1]\n",
            "    [2, 2]\n",
            "      [1, 2]\n",
            "        [1]\n",
            "      [2]\n",
            "        [1]\n",
            "    [1, 3]\n",
            "      [1]\n",
            "  [1, 2, 2]\n",
            "    [1, 2]\n",
            "      [1]\n",
            "    [2]\n",
            "      [1]\n",
            "    [2, 2]\n",
            "      [1, 2]\n",
            "        [1]\n",
            "      [2]\n",
            "        [1]\n",
            "  [3]\n",
            "    [1]\n",
            "Stick Tree (Cache):\n",
            "[1 2 3]\n",
            "  [1, 3]\n",
            "    [1]\n",
            "  [1, 2]\n",
            "    [1]\n",
            "  [2]\n",
            "    [1]\n",
            "  [2, 3]\n",
            "    [1, 2]\n",
            "      [1]\n",
            "    [2]\n",
            "      [1]\n",
            "    [3]\n",
            "      [1]\n",
            "    [2, 2]\n",
            "      [1, 2]\n",
            "        [1]\n",
            "      [2]\n",
            "        [1]\n",
            "    [1, 3]\n",
            "      [1]\n",
            "  [1, 2, 2]\n",
            "    [1, 2]\n",
            "      [1]\n",
            "    [2]\n",
            "      [1]\n",
            "    [2, 2]\n",
            "      [1, 2]\n",
            "        [1]\n",
            "      [2]\n",
            "        [1]\n",
            "  [3]\n",
            "    [1]\n"
          ]
        }
      ],
      "source": [
        "def build_stick_tree(board):\n",
        "    \"\"\"Builds a stick game tree where each node splits into all possible new boads\"\"\"\n",
        "    root = TreeNode(board)\n",
        "\n",
        "    def recursive_add(node):\n",
        "        if status(node.value) and len(node.value)==0:\n",
        "            return\n",
        "        boards=possible_out (node.value)\n",
        "        for iboard in boards:\n",
        "            if len(iboard)==0:\n",
        "                break\n",
        "            ichild=TreeNode(iboard)\n",
        "            node.add_child(ichild)\n",
        "            recursive_add(ichild)\n",
        "\n",
        "    recursive_add(root)\n",
        "    return root\n",
        "\n",
        "\n",
        "def build_stick_tree_cache (board, node_cache=None):\n",
        "    \"\"\"Builds a stick game tree where each node splits into all possible new boads\"\"\"\n",
        "\n",
        "    # if len(board)==0:\n",
        "    #     return\n",
        "    if node_cache is None:\n",
        "        node_cache = {}\n",
        "    hash_board=hash_list(board)\n",
        "\n",
        "    if hash_board in node_cache:\n",
        "        return node_cache[hash_board]\n",
        "\n",
        "    root = TreeNode(board)\n",
        "    node_cache[hash_board] = root\n",
        "\n",
        "    def recursive_add(node):\n",
        "        if status(node.value) and len(node.value)==0:\n",
        "            return\n",
        "        boards=possible_out (node.value)\n",
        "        for iboard in boards:\n",
        "            if len(iboard)==0:\n",
        "                break\n",
        "            ihash_board=hash_list(iboard)\n",
        "            if ihash_board in node_cache:\n",
        "                ichild=node_cache[ihash_board]\n",
        "            else:\n",
        "                ichild=TreeNode(iboard)\n",
        "                recursive_add(ichild)\n",
        "                node_cache[ihash_board]=ichild\n",
        "\n",
        "            node.add_child(ichild)\n",
        "\n",
        "    recursive_add(root)\n",
        "    return root\n",
        "\n",
        "def print_tree(node, depth=0):\n",
        "    \"\"\"Prints the tree structure.\"\"\"\n",
        "    print(\"  \" * depth + str(node.value))\n",
        "    for child in node.children:\n",
        "        print_tree(child, depth + 1)\n",
        "\n",
        "# Example usage\n",
        "lv=3  # Change this number to test different values\n",
        "board=init_board(lv)\n",
        "root = build_stick_tree(board)\n",
        "print(\"Stick Tree:\")\n",
        "print_tree(root)\n",
        "\n",
        "node_cache = {}\n",
        "root_cache = build_stick_tree_cache (board, node_cache)\n",
        "print(\"Stick Tree (Cache):\")\n",
        "print_tree(root_cache)\n",
        "\n",
        "# def are_trees_identical(node1, node2):\n",
        "#     \"\"\"Checks if two trees are identical in structure and values.\"\"\"\n",
        "#     if node1 is None and node2 is None:\n",
        "#         return True\n",
        "#     if node1 is None or node2 is None:\n",
        "#         return False\n",
        "#     if node1.value != node2.value:\n",
        "#         return False\n",
        "#     if len(node1.children) != len(node2.children):\n",
        "#         return False\n",
        "\n",
        "#     return all(are_trees_identical(c1, c2) for c1, c2 in zip(node1.children, node2.children))\n",
        "\n",
        "# print(\"Tree1 and Tree2 are identical:\", are_trees_identical(root, root_cache))"
      ]
    },
    {
      "cell_type": "code",
      "source": [
        "%timeit build_stick_tree(board)\n",
        "%timeit build_stick_tree_cache (board)"
      ],
      "metadata": {
        "colab": {
          "base_uri": "https://localhost:8080/"
        },
        "id": "CzYgACuTQ6kD",
        "outputId": "6a6a226f-6cd2-4ff8-e289-54dd96694d4e"
      },
      "id": "CzYgACuTQ6kD",
      "execution_count": 149,
      "outputs": [
        {
          "output_type": "stream",
          "name": "stdout",
          "text": [
            "3.07 ms ± 657 µs per loop (mean ± std. dev. of 7 runs, 100 loops each)\n",
            "1.08 ms ± 35.6 µs per loop (mean ± std. dev. of 7 runs, 1000 loops each)\n",
            "1.1 ms ± 51 µs per loop (mean ± std. dev. of 7 runs, 1000 loops each)\n"
          ]
        }
      ]
    },
    {
      "cell_type": "code",
      "source": [
        "### now walk through the tree to find winning path\n",
        "def find_leaf_levels_and_paths(node, level=0, path=\"\", leaves=None):\n",
        "    \"\"\"Finds all leaf nodes, their levels, and paths in the tree.\"\"\"\n",
        "    if leaves is None:\n",
        "        leaves = []\n",
        "\n",
        "    if not node.children:  # If it's a leaf node\n",
        "        leaves.append((node.value, level, path))\n",
        "\n",
        "    for child in node.children:\n",
        "        find_leaf_levels_and_paths(child, level + 1, path + f\"->{child.value}\", leaves)\n",
        "\n",
        "    return leaves\n",
        "\n",
        "# Example usage:\n",
        "\n",
        "lv=3  # Change this number to test different values\n",
        "board=init_board(lv)\n",
        "root = build_stick_tree(board)\n",
        "leaves = find_leaf_levels_and_paths(root)\n",
        "print(\"Possible paths for stick game level\", board)\n",
        "for value, lvl, path in leaves:\n",
        "    print(f\"Leaf depth: {lvl} ({['LOST', 'WIN '][lvl%2]}), Path: {path}\")"
      ],
      "metadata": {
        "colab": {
          "base_uri": "https://localhost:8080/"
        },
        "id": "QV0_Ao87WnTv",
        "outputId": "e951b112-fb4e-494f-95d2-8f048364c244"
      },
      "id": "QV0_Ao87WnTv",
      "execution_count": 187,
      "outputs": [
        {
          "output_type": "stream",
          "name": "stdout",
          "text": [
            "Possible paths for stick game level [1 2 3]\n",
            "Leaf depth: 2 (LOST), Path: ->[1, 3]->[1]\n",
            "Leaf depth: 2 (LOST), Path: ->[1, 2]->[1]\n",
            "Leaf depth: 2 (LOST), Path: ->[2]->[1]\n",
            "Leaf depth: 3 (WIN ), Path: ->[2, 3]->[1, 2]->[1]\n",
            "Leaf depth: 3 (WIN ), Path: ->[2, 3]->[2]->[1]\n",
            "Leaf depth: 3 (WIN ), Path: ->[2, 3]->[3]->[1]\n",
            "Leaf depth: 4 (LOST), Path: ->[2, 3]->[2, 2]->[1, 2]->[1]\n",
            "Leaf depth: 4 (LOST), Path: ->[2, 3]->[2, 2]->[2]->[1]\n",
            "Leaf depth: 3 (WIN ), Path: ->[2, 3]->[1, 3]->[1]\n",
            "Leaf depth: 3 (WIN ), Path: ->[1, 2, 2]->[1, 2]->[1]\n",
            "Leaf depth: 3 (WIN ), Path: ->[1, 2, 2]->[2]->[1]\n",
            "Leaf depth: 4 (LOST), Path: ->[1, 2, 2]->[2, 2]->[1, 2]->[1]\n",
            "Leaf depth: 4 (LOST), Path: ->[1, 2, 2]->[2, 2]->[2]->[1]\n",
            "Leaf depth: 2 (LOST), Path: ->[3]->[1]\n"
          ]
        }
      ]
    },
    {
      "cell_type": "code",
      "source": [],
      "metadata": {
        "id": "-MdjoYIyWnYb"
      },
      "id": "-MdjoYIyWnYb",
      "execution_count": null,
      "outputs": []
    },
    {
      "cell_type": "code",
      "source": [],
      "metadata": {
        "id": "C67iI-89f_I3"
      },
      "id": "C67iI-89f_I3",
      "execution_count": null,
      "outputs": []
    },
    {
      "cell_type": "code",
      "source": [],
      "metadata": {
        "id": "f2IGSe0Hf_LG"
      },
      "id": "f2IGSe0Hf_LG",
      "execution_count": null,
      "outputs": []
    },
    {
      "cell_type": "code",
      "source": [
        "# ## use cache, from chatgpt\n",
        "# def build_factorization_tree(n, node_cache=None):\n",
        "#     \"\"\"Builds a factorization tree with memoization.\"\"\"\n",
        "#     if node_cache is None:\n",
        "#         node_cache = {}\n",
        "\n",
        "#     # If this number was already processed, return the existing node\n",
        "#     if n in node_cache:\n",
        "#         return node_cache[n]\n",
        "\n",
        "#     root = TreeNode(n)\n",
        "#     node_cache[n] = root  # Store in cache before processing further\n",
        "\n",
        "#     def recursive_factorize(node):\n",
        "#         if is_prime(node.value):  # Stop when a prime is reached\n",
        "#             return\n",
        "#         factor1, factor2 = factorize(node.value)\n",
        "#         if factor1 == node.value:  # If it's prime, stop\n",
        "#             return\n",
        "\n",
        "#         # Check cache before creating new nodes\n",
        "#         if factor1 in node_cache:\n",
        "#             child1 = node_cache[factor1]\n",
        "#         else:\n",
        "#             child1 = TreeNode(factor1)\n",
        "#             node_cache[factor1] = child1\n",
        "\n",
        "#         if factor2 in node_cache:\n",
        "#             child2 = node_cache[factor2]\n",
        "#         else:\n",
        "#             child2 = TreeNode(factor2)\n",
        "#             node_cache[factor2] = child2\n",
        "\n",
        "#         node.add_child(child1)\n",
        "#         node.add_child(child2)\n",
        "\n",
        "#         # Recursively factorize only if not in cache\n",
        "#         if factor1 not in node_cache:\n",
        "#             recursive_factorize(child1)\n",
        "#         if factor2 not in node_cache:\n",
        "#             recursive_factorize(child2)\n",
        "\n",
        "#     recursive_factorize(root)\n",
        "#     return root\n",
        "\n",
        "# def print_tree(node, depth=0):\n",
        "#     \"\"\"Prints the tree structure.\"\"\"\n",
        "#     print(\"  \" * depth + str(node.value))\n",
        "#     for child in node.children:\n",
        "#         print_tree(child, depth + 1)\n",
        "\n",
        "# # Example usage\n",
        "# node_cache = {}  # Create a shared cache for multiple calls\n",
        "# number = 120  # Change this number to test different values\n",
        "# root = build_factorization_tree(number, node_cache)\n",
        "\n",
        "# print(\"Factorization Tree:\")\n",
        "# print_tree(root)\n",
        "\n",
        "# # Reuse cache for another number\n",
        "# print(\"\\nRecomputing for 120 should be instant:\")\n",
        "# root2 = build_factorization_tree(120, node_cache)  # Should reuse stored nodes\n",
        "# print_tree(root2)"
      ],
      "metadata": {
        "id": "LlxKo5MEL6kc"
      },
      "id": "LlxKo5MEL6kc",
      "execution_count": 111,
      "outputs": []
    },
    {
      "cell_type": "code",
      "execution_count": null,
      "id": "031c9c7a",
      "metadata": {
        "id": "031c9c7a"
      },
      "outputs": [],
      "source": [
        "## code block from chatgpt with prompt\n",
        "## \"write python code (can include numpy) to traverse a tree, including establish the tree\"\n",
        "\n",
        "# from collections import deque\n",
        "\n",
        "# class TreeNode:\n",
        "#     def __init__(self, value):\n",
        "#         self.value = value\n",
        "#         self.children = []\n",
        "\n",
        "#     def add_child(self, child_node):\n",
        "#         self.children.append(child_node)\n",
        "\n",
        "# # Depth-First Search (DFS) Traversal\n",
        "\n",
        "# def dfs_traversal(node, visited=None):\n",
        "#     if visited is None:\n",
        "#         visited = []\n",
        "\n",
        "#     visited.append(node.value)\n",
        "#     for child in node.children:\n",
        "#         dfs_traversal(child, visited)\n",
        "\n",
        "#     return visited\n",
        "\n",
        "# # Breadth-First Search (BFS) Traversal\n",
        "\n",
        "# def bfs_traversal(root):\n",
        "#     visited = []\n",
        "#     queue = deque([root])\n",
        "\n",
        "#     while queue:\n",
        "#         node = queue.popleft()\n",
        "#         visited.append(node.value)\n",
        "#         queue.extend(node.children)\n",
        "\n",
        "#     return visited\n",
        "\n",
        "# # Example: Constructing a tree\n",
        "# root = TreeNode(1)\n",
        "# child1 = TreeNode(2)\n",
        "# child2 = TreeNode(3)\n",
        "# child3 = TreeNode(4)\n",
        "# child4 = TreeNode(5)\n",
        "\n",
        "# root.add_child(child1)\n",
        "# root.add_child(child2)\n",
        "# child1.add_child(child3)\n",
        "# child1.add_child(child4)\n",
        "\n",
        "# # Traversing the tree\n",
        "# print(\"DFS Traversal:\", dfs_traversal(root))\n",
        "# print(\"BFS Traversal:\", bfs_traversal(root))\n",
        "\n",
        "# def find_max_depth(node, depth=0):\n",
        "#     \"\"\"Finds the maximum depth of the tree.\"\"\"\n",
        "#     if not node.children:\n",
        "#         return depth\n",
        "#     return max(find_max_depth(child, depth + 1) for child in node.children)\n",
        "\n",
        "# def get_last_level_nodes(root):\n",
        "#     \"\"\"Finds all nodes at the last level.\"\"\"\n",
        "#     max_depth = find_max_depth(root)\n",
        "#     last_level_nodes = []\n",
        "\n",
        "#     def collect_nodes_at_depth(node, depth):\n",
        "#         if depth == max_depth:\n",
        "#             last_level_nodes.append(node.value)\n",
        "#         for child in node.children:\n",
        "#             collect_nodes_at_depth(child, depth + 1)\n",
        "\n",
        "#     collect_nodes_at_depth(root, 0)\n",
        "#     return last_level_nodes\n",
        "\n",
        "# # Example usage:\n",
        "# print ('find max dept(node)', find_max_depth(root))\n",
        "# print(\"Nodes at last level:\", get_last_level_nodes(root))"
      ]
    },
    {
      "cell_type": "code",
      "execution_count": 7,
      "id": "77ac47e6",
      "metadata": {
        "id": "77ac47e6"
      },
      "outputs": [],
      "source": [
        "# ## chatgpt \"build a tree where a number is factorized into 2 numbers each time, until only prime numbers left\"\n",
        "\n",
        "# class TreeNode:\n",
        "#     def __init__(self, value):\n",
        "#         self.value = value\n",
        "#         self.children = []\n",
        "\n",
        "#     def add_child(self, child_node):\n",
        "#         self.children.append(child_node)\n",
        "\n",
        "# def is_prime(n):\n",
        "#     \"\"\"Check if a number is prime.\"\"\"\n",
        "#     if n < 2:\n",
        "#         return False\n",
        "#     for i in range(2, int(np.sqrt(n)) + 1):\n",
        "#         if n % i == 0:\n",
        "#             return False\n",
        "#     return True\n",
        "\n",
        "# def factorize(n):\n",
        "#     \"\"\"Finds the smallest factor (other than 1) of n.\"\"\"\n",
        "#     for i in range(2, int(np.sqrt(n)) + 1):\n",
        "#         if n % i == 0:\n",
        "#             return i, n // i\n",
        "#     return n, 1  # If prime, return itself\n",
        "\n",
        "# def build_factorization_tree(n):\n",
        "#     \"\"\"Builds a factorization tree where each node splits into two factors.\"\"\"\n",
        "#     root = TreeNode(n)\n",
        "\n",
        "#     def recursive_factorize(node):\n",
        "#         if is_prime(node.value):  # Stop when a prime is reached\n",
        "#             return\n",
        "#         factor1, factor2 = factorize(node.value)\n",
        "#         if factor1 == node.value:  # If it's prime, stop\n",
        "#             return\n",
        "#         child1 = TreeNode(factor1)\n",
        "#         child2 = TreeNode(factor2)\n",
        "#         node.add_child(child1)\n",
        "#         node.add_child(child2)\n",
        "#         recursive_factorize(child1)\n",
        "#         recursive_factorize(child2)\n",
        "\n",
        "#     recursive_factorize(root)\n",
        "#     return root\n",
        "\n",
        "# def print_tree(node, depth=0):\n",
        "#     \"\"\"Prints the tree structure.\"\"\"\n",
        "#     print(\"  \" * depth + str(node.value))\n",
        "#     for child in node.children:\n",
        "#         print_tree(child, depth + 1)\n",
        "\n",
        "# # Example usage\n",
        "# number = 120  # Change this number to test different values\n",
        "# root = build_factorization_tree(number)\n",
        "\n",
        "# print(\"Factorization Tree:\")\n",
        "# print_tree(root)\n"
      ]
    },
    {
      "cell_type": "code",
      "execution_count": null,
      "id": "025de67e",
      "metadata": {
        "id": "025de67e"
      },
      "outputs": [],
      "source": []
    }
  ],
  "metadata": {
    "kernelspec": {
      "display_name": "Python 3 (ipykernel)",
      "language": "python",
      "name": "python3"
    },
    "language_info": {
      "codemirror_mode": {
        "name": "ipython",
        "version": 3
      },
      "file_extension": ".py",
      "mimetype": "text/x-python",
      "name": "python",
      "nbconvert_exporter": "python",
      "pygments_lexer": "ipython3",
      "version": "3.9.13"
    },
    "colab": {
      "provenance": [],
      "include_colab_link": true
    }
  },
  "nbformat": 4,
  "nbformat_minor": 5
}